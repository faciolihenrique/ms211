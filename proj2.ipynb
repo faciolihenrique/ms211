{
 "cells": [
  {
   "cell_type": "code",
   "execution_count": 21,
   "metadata": {
    "collapsed": false
   },
   "outputs": [],
   "source": [
    "import math \n",
    "import matplotlib.dates as mdate\n",
    "import numpy as np\n",
    "from scipy import stats\n",
    "import matplotlib.pyplot as plt\n",
    "\n",
    "psi = 2\n",
    "gamma = 1\n",
    "\n",
    "def f(x):\n",
    "    return math.sin(math.pi*x) + x*(1-x)\n",
    "\n",
    "def _lambda(gamma,k,h):\n",
    "    return gamma*(k/h**2)\n",
    "\n",
    "p = 0\n",
    "q = 0"
   ]
  },
  {
   "cell_type": "markdown",
   "metadata": {},
   "source": [
    "## Método explícito"
   ]
  },
  {
   "cell_type": "code",
   "execution_count": 25,
   "metadata": {
    "collapsed": false
   },
   "outputs": [
    {
     "name": "stdout",
     "output_type": "stream",
     "text": [
      "[[ 0.  0.  0.  0.  0.]\n",
      " [ 0.  0.  0.  0.  0.]\n",
      " [ 0.  0.  0.  0.  0.]\n",
      " [ 0.  0.  0.  0.  0.]\n",
      " [ 0.  0.  0.  0.  0.]\n",
      " [ 0.  0.  0.  0.  0.]\n",
      " [ 0.  0.  0.  0.  0.]\n",
      " [ 0.  0.  0.  0.  0.]\n",
      " [ 0.  0.  0.  0.  0.]\n",
      " [ 0.  0.  0.  0.  0.]]\n"
     ]
    }
   ],
   "source": [
    "h = 0.01 # Valor do passo em x\n",
    "\n",
    "#k_stable = 0.00001 # lambda == 0.1\n",
    "\n",
    "#k_instable = 0.0001 # lambda == 1\n",
    "\n",
    "#lambd = _lambda(gamma,k,h) # Valor de lambda\n",
    "\n",
    "m = int(1/h) # Quantidade de posicoes x na barra\n",
    "\n",
    "A = np.zeros((5,5))\n",
    "\n",
    "#for i in range(5):\n",
    "#    A.itemset((i,i),10)\n",
    "    \n",
    "print(matrix)\n"
   ]
  },
  {
   "cell_type": "code",
   "execution_count": null,
   "metadata": {
    "collapsed": true
   },
   "outputs": [],
   "source": []
  }
 ],
 "metadata": {
  "kernelspec": {
   "display_name": "Python 3",
   "language": "python",
   "name": "python3"
  },
  "language_info": {
   "codemirror_mode": {
    "name": "ipython",
    "version": 3
   },
   "file_extension": ".py",
   "mimetype": "text/x-python",
   "name": "python",
   "nbconvert_exporter": "python",
   "pygments_lexer": "ipython3",
   "version": "3.5.0"
  }
 },
 "nbformat": 4,
 "nbformat_minor": 0
}
